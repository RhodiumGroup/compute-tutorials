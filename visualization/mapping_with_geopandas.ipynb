{
 "cells": [
  {
   "cell_type": "markdown",
   "metadata": {},
   "source": [
    "# DataVis Tutorial: Mapping with Geopandas\n",
    "\n",
    "This notebook aims to provide an introduction to producing graphical maps of spatial data using shapefiles and the [`geopandas`](http://geopandas.org/mapping.html) package"
   ]
  },
  {
   "cell_type": "markdown",
   "metadata": {},
   "source": [
    "### Set up environment"
   ]
  },
  {
   "cell_type": "markdown",
   "metadata": {},
   "source": [
    "#### Set up geopandas"
   ]
  },
  {
   "cell_type": "code",
   "execution_count": null,
   "metadata": {},
   "outputs": [],
   "source": [
    "import geopandas"
   ]
  },
  {
   "cell_type": "markdown",
   "metadata": {},
   "source": [
    "We use a special version of geopandas with vectorized operations written in C, which provides very significant speedups over the current production version. We strongly recommend using the version of geopandas installed by default on [compute.rhg.com](https://compute.rhg.com), or installing using the dev branch from `conda-forge`:\n",
    "\n",
    "```bash\n",
    "conda install --channel conda-forge/label/dev geopandas\n",
    "```"
   ]
  },
  {
   "cell_type": "code",
   "execution_count": null,
   "metadata": {},
   "outputs": [],
   "source": [
    "geopandas.__version__"
   ]
  },
  {
   "cell_type": "markdown",
   "metadata": {},
   "source": [
    "if you install the package this way, you should see something like `'1.0.0.dev+141.ge925363'` in the output above"
   ]
  },
  {
   "cell_type": "markdown",
   "metadata": {},
   "source": [
    "#### Set up your notebook for displaying inline plots"
   ]
  },
  {
   "cell_type": "code",
   "execution_count": null,
   "metadata": {},
   "outputs": [],
   "source": [
    "% matplotlib inline"
   ]
  },
  {
   "cell_type": "markdown",
   "metadata": {},
   "source": [
    "## Using shapefiles"
   ]
  },
  {
   "cell_type": "markdown",
   "metadata": {},
   "source": [
    "Shapefiles are a special ESRI file format for encoding spatial information such as geographic shapes (countries, states, oceans, etc), individual lines (borders, coastlines, rivers, etc), and points.\n",
    "\n",
    "Shapefiles can be obtained from a number of sources. Here are some we use commonly:\n",
    "* [US Census county boundaries](https://www.census.gov/geo/maps-data/data/cbf/cbf_counties.html)\n",
    "* [US Census metropolitan and micropolitan statistical areas](https://www.census.gov/geo/maps-data/data/cbf/cbf_msa.html)\n",
    "* [Natural Earth Global admin 0 regions (countries)](https://www.naturalearthdata.com/downloads/50m-cultural-vectors/)\n",
    "* [Natural Earth Global admin_1 regions (states/provinces)](https://www.naturalearthdata.com/downloads/50m-cultural-vectors/)\n",
    "* [Natural Earth physical features (land, ocean, rivers, lakes)](https://www.naturalearthdata.com/downloads/10m-physical-vectors)\n",
    "* [US Department of Homeland Security: Electric Retail Service Territories](https://hifld-geoplatform.opendata.arcgis.com/datasets/c4fd0b01c2544a2f83440dab292f0980_0)\n",
    "* [US Department of Homeland Security: FERC Regions](https://hifld-geoplatform.opendata.arcgis.com/datasets/ae9bc057efa44f23bde91a2cb8e996db_0)\n",
    "* [US Department of Homeland Security: ISOs](https://hifld-geoplatform.opendata.arcgis.com/datasets/9d1099b016e5482c900d657f06f3ac80_0)\n",
    "\n",
    "### Shapefiles on compute.rhg.com\n",
    "\n",
    "A number of shapefiles can be found in the following directory:\n",
    "\n",
    "```bash\n",
    "/gcs/rhg-data/impactlab-rhg/spatial/shapefiles\n",
    "```"
   ]
  },
  {
   "cell_type": "markdown",
   "metadata": {},
   "source": [
    "### Reading in a shapefile"
   ]
  },
  {
   "cell_type": "markdown",
   "metadata": {},
   "source": [
    "to read in a shapefile using geopandas, use the `read_file` method:"
   ]
  },
  {
   "cell_type": "code",
   "execution_count": null,
   "metadata": {},
   "outputs": [],
   "source": [
    "shapefile = geopandas.read_file(\n",
    "    '/gcs/rhg-data/impactlab-rhg/spatial/shapefiles/source/us_census/cbf_counties')"
   ]
  },
  {
   "cell_type": "markdown",
   "metadata": {},
   "source": [
    "Print out the head of the file to view a sample of the contents:"
   ]
  },
  {
   "cell_type": "code",
   "execution_count": null,
   "metadata": {},
   "outputs": [],
   "source": [
    "shapefile.head()"
   ]
  },
  {
   "cell_type": "markdown",
   "metadata": {},
   "source": [
    "Shapefiles are usually structured in this way, where there are a number of data and metadata columns, along with a `'geometry'` column. This is a special designation in `geopandas` that allows the column's contents to be used in plotting."
   ]
  },
  {
   "cell_type": "markdown",
   "metadata": {},
   "source": [
    "### Plotting a column from the shapefile"
   ]
  },
  {
   "cell_type": "code",
   "execution_count": null,
   "metadata": {},
   "outputs": [],
   "source": [
    "shapefile.plot('GEOID')"
   ]
  },
  {
   "cell_type": "markdown",
   "metadata": {},
   "source": [
    "To limit this to a specific bounding box, set the axes limits using regular matplotlib syntax:"
   ]
  },
  {
   "cell_type": "code",
   "execution_count": null,
   "metadata": {},
   "outputs": [],
   "source": [
    "ax = shapefile.plot('GEOID', figsize=(14, 8))\n",
    "ax.set_xlim(-130, -65)\n",
    "ax.set_ylim(22, 50)"
   ]
  },
  {
   "cell_type": "markdown",
   "metadata": {},
   "source": [
    "### Modifying the data"
   ]
  },
  {
   "cell_type": "markdown",
   "metadata": {},
   "source": [
    "the GEOID column is a string representation of FIPS, so isn't handled quite right. let's create a FIPS column:"
   ]
  },
  {
   "cell_type": "code",
   "execution_count": null,
   "metadata": {},
   "outputs": [],
   "source": [
    "shapefile['FIPS'] = shapefile.GEOID.astype(int)"
   ]
  },
  {
   "cell_type": "code",
   "execution_count": null,
   "metadata": {},
   "outputs": [],
   "source": [
    "ax = shapefile.plot('FIPS', figsize=(14, 8))\n",
    "ax.set_xlim(-130, -65)\n",
    "ax.set_ylim(22, 50)"
   ]
  },
  {
   "cell_type": "code",
   "execution_count": null,
   "metadata": {},
   "outputs": [],
   "source": [
    "ax = shapefile.loc[shapefile.STATEFP == '06'].plot('FIPS', figsize=(14, 8))\n",
    "# ax.set_xlim(-130, -65)\n",
    "# ax.set_ylim(22, 50)"
   ]
  },
  {
   "cell_type": "markdown",
   "metadata": {},
   "source": [
    "## Plotting data from another source on a shapefile"
   ]
  },
  {
   "cell_type": "markdown",
   "metadata": {},
   "source": [
    "If you have data in another format, plotting it is as simple as adding it to the GeoDataFrame and plotting that column"
   ]
  },
  {
   "cell_type": "code",
   "execution_count": null,
   "metadata": {},
   "outputs": [],
   "source": [
    "! head -n 5 /gcs/rhg-data/impactlab-rhg/acp/sector_data/ouptuts/cotton_output.csv"
   ]
  },
  {
   "cell_type": "code",
   "execution_count": null,
   "metadata": {},
   "outputs": [],
   "source": [
    "import pandas as pd"
   ]
  },
  {
   "cell_type": "code",
   "execution_count": null,
   "metadata": {},
   "outputs": [],
   "source": [
    "cotton_output = pd.read_csv(\n",
    "    '/gcs/rhg-data/impactlab-rhg/acp/sector_data/ouptuts/cotton_output.csv',\n",
    "    index_col=0)"
   ]
  },
  {
   "cell_type": "code",
   "execution_count": null,
   "metadata": {},
   "outputs": [],
   "source": [
    "cotton_output.head()"
   ]
  },
  {
   "cell_type": "code",
   "execution_count": null,
   "metadata": {},
   "outputs": [],
   "source": [
    "len(cotton_output)"
   ]
  },
  {
   "cell_type": "markdown",
   "metadata": {},
   "source": [
    "It will be easier to join these dataframes if they are both indexed by FIPS:"
   ]
  },
  {
   "cell_type": "code",
   "execution_count": null,
   "metadata": {},
   "outputs": [],
   "source": [
    "shapefile = shapefile.set_index('FIPS').sort_index()"
   ]
  },
  {
   "cell_type": "code",
   "execution_count": null,
   "metadata": {},
   "outputs": [],
   "source": [
    "shapefile.head()"
   ]
  },
  {
   "cell_type": "code",
   "execution_count": null,
   "metadata": {},
   "outputs": [],
   "source": [
    "centroids = shapefile.geometry.centroid"
   ]
  },
  {
   "cell_type": "code",
   "execution_count": null,
   "metadata": {},
   "outputs": [],
   "source": [
    "shapefile['cotton_output'] = cotton_output['Value (Cotton Output - million dollars)']"
   ]
  },
  {
   "cell_type": "code",
   "execution_count": null,
   "metadata": {},
   "outputs": [],
   "source": [
    "shapefile.head()"
   ]
  },
  {
   "cell_type": "code",
   "execution_count": null,
   "metadata": {},
   "outputs": [],
   "source": [
    "type(shapefile)"
   ]
  },
  {
   "cell_type": "code",
   "execution_count": null,
   "metadata": {},
   "outputs": [],
   "source": [
    "shapefile['cotton_output'] = shapefile['cotton_output'].where(shapefile['cotton_output'] > 0)"
   ]
  },
  {
   "cell_type": "code",
   "execution_count": null,
   "metadata": {},
   "outputs": [],
   "source": [
    "ax = shapefile.plot('cotton_output', figsize=(14, 8), cmap='Greens')\n",
    "ax.set_xlim(-130, -65)\n",
    "ax.set_ylim(22, 50)"
   ]
  },
  {
   "cell_type": "markdown",
   "metadata": {},
   "source": [
    "Let's clean this up a bit and set the N/A values to grey"
   ]
  },
  {
   "cell_type": "code",
   "execution_count": null,
   "metadata": {},
   "outputs": [],
   "source": [
    "ax = shapefile.plot(figsize=(14, 8), color='lightgrey')\n",
    "shapefile.loc[shapefile.cotton_output.notnull()].plot('cotton_output', figsize=(14, 8), cmap='Greens', ax=ax)\n",
    "ax.set_xlim(-130, -65)\n",
    "ax.set_ylim(22, 50)"
   ]
  },
  {
   "cell_type": "markdown",
   "metadata": {},
   "source": [
    "### Combining figures with plots from other libraries"
   ]
  },
  {
   "cell_type": "markdown",
   "metadata": {},
   "source": [
    "There are a number of other libraries that can manipulate plots in python, and luckily, many of them can work with matplotlib figures/axes objects. You can use them directly with matplotlib by plotting on the same axis:"
   ]
  },
  {
   "cell_type": "markdown",
   "metadata": {},
   "source": [
    "#### Cartopy\n",
    "\n",
    "[Cartopy](https://scitools.org.uk/cartopy/docs/v0.14/) is another library with out-of-the-box tools for plotting geographic information"
   ]
  },
  {
   "cell_type": "code",
   "execution_count": null,
   "metadata": {},
   "outputs": [],
   "source": [
    "import cartopy\n",
    "import cartopy.crs as ccrs\n",
    "import cartopy.feature as cfeature\n",
    "import matplotlib.pyplot as plt"
   ]
  },
  {
   "cell_type": "markdown",
   "metadata": {},
   "source": [
    "The `coastlines` method can be called on any axis object that has been created with a cartopy projection."
   ]
  },
  {
   "cell_type": "code",
   "execution_count": null,
   "metadata": {},
   "outputs": [],
   "source": [
    "ax = plt.axes(projection=ccrs.PlateCarree())\n",
    "ax.coastlines()"
   ]
  },
  {
   "cell_type": "markdown",
   "metadata": {},
   "source": [
    "This can be combined with geopandas code to plot cartopy features on top of geopandas"
   ]
  },
  {
   "cell_type": "code",
   "execution_count": null,
   "metadata": {},
   "outputs": [],
   "source": [
    "fig = plt.figure(figsize=(14, 8))\n",
    "ax = fig.add_subplot(111, projection=ccrs.PlateCarree())\n",
    "ax.coastlines('10m')\n",
    "\n",
    "shapefile.plot(color='lightgrey', ax=ax)\n",
    "shapefile.loc[shapefile.cotton_output.notnull()].plot('cotton_output', figsize=(14, 8), cmap='Greens', ax=ax)\n",
    "ax.set_xlim(-130, -65)\n",
    "ax.set_ylim(22, 50)"
   ]
  },
  {
   "cell_type": "markdown",
   "metadata": {},
   "source": [
    "### Add custom lines"
   ]
  },
  {
   "cell_type": "code",
   "execution_count": null,
   "metadata": {},
   "outputs": [],
   "source": [
    "ax = shapefile.plot(figsize=(14, 8), color='lightgrey')\n",
    "shapefile.loc[shapefile.cotton_output.notnull()].plot('cotton_output', figsize=(14, 8), cmap='Greens', ax=ax)\n",
    "ax.set_xlim(-130, -65)\n",
    "ax.set_ylim(22, 50)\n",
    "\n",
    "# by default, ax.plot will create a line plot\n",
    "ax.plot(\n",
    "    [-120, -70, -120],  # x values of line\n",
    "    [25, 45, 45],  # y values of line\n",
    "    color='blue',  # color of line\n",
    "    linestyle='dotted')  # line style (optional)\n",
    "\n",
    "ax.set_title('my plot')"
   ]
  },
  {
   "cell_type": "markdown",
   "metadata": {},
   "source": [
    "### Bubble plot"
   ]
  },
  {
   "cell_type": "code",
   "execution_count": null,
   "metadata": {},
   "outputs": [],
   "source": [
    "fig = plt.figure(figsize=(10, 6))\n",
    "ax = fig.add_subplot(111, projection=ccrs.PlateCarree())\n",
    "\n",
    "ax.scatter(\n",
    "    centroids.x, # x position of data\n",
    "    centroids.y, # y position of data\n",
    "    s=shapefile.cotton_output, # data to use for size\n",
    "    c=shapefile.cotton_output, # data to use for coloring\n",
    "    cmap='Greens') # color scheme - see https://matplotlib.org/examples/color/colormaps_reference.html\n",
    "\n",
    "ax.coastlines('10m')"
   ]
  }
 ],
 "metadata": {
  "kernelspec": {
   "display_name": "Python [default]",
   "language": "python",
   "name": "python3"
  },
  "language_info": {
   "codemirror_mode": {
    "name": "ipython",
    "version": 3
   },
   "file_extension": ".py",
   "mimetype": "text/x-python",
   "name": "python",
   "nbconvert_exporter": "python",
   "pygments_lexer": "ipython3",
   "version": "3.6.6"
  }
 },
 "nbformat": 4,
 "nbformat_minor": 2
}
